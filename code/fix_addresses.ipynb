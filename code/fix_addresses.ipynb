{
 "cells": [
  {
   "cell_type": "markdown",
   "metadata": {},
   "source": [
    "# Fix problematic addresses that won't be geocoded "
   ]
  },
  {
   "cell_type": "code",
   "execution_count": 3,
   "metadata": {},
   "outputs": [],
   "source": [
    "\n",
    "# Print all outputs from commnads in a cell\n",
    "from IPython.core.interactiveshell import InteractiveShell\n",
    "InteractiveShell.ast_node_interactivity = \"all\"\n",
    "\n",
    "from urllib.request import Request, urlopen\n",
    "from bs4 import BeautifulSoup \n",
    "import pandas as pd\n",
    "import re \n"
   ]
  },
  {
   "cell_type": "code",
   "execution_count": 4,
   "metadata": {},
   "outputs": [],
   "source": [
    "# Import files \n",
    "df = pd.read_csv(\"/home/jae/analyzing-asian-american-latino-civic-infrastructure/processed_data/org_lat_logs.csv\")"
   ]
  },
  {
   "cell_type": "markdown",
   "metadata": {},
   "source": [
    "## Inspect the file and create an index variable "
   ]
  },
  {
   "cell_type": "code",
   "execution_count": 5,
   "metadata": {},
   "outputs": [
    {
     "data": {
      "text/html": [
       "<div>\n",
       "<style scoped>\n",
       "    .dataframe tbody tr th:only-of-type {\n",
       "        vertical-align: middle;\n",
       "    }\n",
       "\n",
       "    .dataframe tbody tr th {\n",
       "        vertical-align: top;\n",
       "    }\n",
       "\n",
       "    .dataframe thead th {\n",
       "        text-align: right;\n",
       "    }\n",
       "</style>\n",
       "<table border=\"1\" class=\"dataframe\">\n",
       "  <thead>\n",
       "    <tr style=\"text-align: right;\">\n",
       "      <th></th>\n",
       "      <th>Address</th>\n",
       "      <th>F.year</th>\n",
       "      <th>latitude</th>\n",
       "      <th>longtitude</th>\n",
       "      <th>geo_method</th>\n",
       "      <th>group</th>\n",
       "    </tr>\n",
       "  </thead>\n",
       "  <tbody>\n",
       "    <tr>\n",
       "      <th>0</th>\n",
       "      <td>101 8th Street, Suite 101 Oakland, CA 94607</td>\n",
       "      <td>1974</td>\n",
       "      <td>NaN</td>\n",
       "      <td>NaN</td>\n",
       "      <td>osm</td>\n",
       "      <td>Asian</td>\n",
       "    </tr>\n",
       "    <tr>\n",
       "      <th>1</th>\n",
       "      <td>1016 West Argyle Street Chicago, IL 60640</td>\n",
       "      <td>1981</td>\n",
       "      <td>41.970223</td>\n",
       "      <td>-87.837310</td>\n",
       "      <td>osm</td>\n",
       "      <td>Asian</td>\n",
       "    </tr>\n",
       "    <tr>\n",
       "      <th>2</th>\n",
       "      <td>1031 25th St, San Diego</td>\n",
       "      <td>1974</td>\n",
       "      <td>32.716370</td>\n",
       "      <td>-117.140274</td>\n",
       "      <td>census</td>\n",
       "      <td>Asian</td>\n",
       "    </tr>\n",
       "    <tr>\n",
       "      <th>3</th>\n",
       "      <td>1038 Post Street San Francisco, CA 94109</td>\n",
       "      <td>1970</td>\n",
       "      <td>37.786960</td>\n",
       "      <td>-122.418930</td>\n",
       "      <td>census</td>\n",
       "      <td>Asian</td>\n",
       "    </tr>\n",
       "    <tr>\n",
       "      <th>4</th>\n",
       "      <td>1055 Wilshire Blvd., Suite 1475 Los Angeles, C...</td>\n",
       "      <td>1976</td>\n",
       "      <td>NaN</td>\n",
       "      <td>NaN</td>\n",
       "      <td>osm</td>\n",
       "      <td>Asian</td>\n",
       "    </tr>\n",
       "  </tbody>\n",
       "</table>\n",
       "</div>"
      ],
      "text/plain": [
       "                                             Address  F.year   latitude  \\\n",
       "0        101 8th Street, Suite 101 Oakland, CA 94607    1974        NaN   \n",
       "1          1016 West Argyle Street Chicago, IL 60640    1981  41.970223   \n",
       "2                            1031 25th St, San Diego    1974  32.716370   \n",
       "3           1038 Post Street San Francisco, CA 94109    1970  37.786960   \n",
       "4  1055 Wilshire Blvd., Suite 1475 Los Angeles, C...    1976        NaN   \n",
       "\n",
       "   longtitude geo_method  group  \n",
       "0         NaN        osm  Asian  \n",
       "1  -87.837310        osm  Asian  \n",
       "2 -117.140274     census  Asian  \n",
       "3 -122.418930     census  Asian  \n",
       "4         NaN        osm  Asian  "
      ]
     },
     "execution_count": 5,
     "metadata": {},
     "output_type": "execute_result"
    }
   ],
   "source": [
    "df.head()"
   ]
  },
  {
   "cell_type": "code",
   "execution_count": 6,
   "metadata": {},
   "outputs": [
    {
     "data": {
      "text/plain": [
       "0     True\n",
       "1    False\n",
       "2    False\n",
       "3    False\n",
       "4     True\n",
       "Name: latitude, dtype: bool"
      ]
     },
     "execution_count": 6,
     "metadata": {},
     "output_type": "execute_result"
    }
   ],
   "source": [
    "# Find NAs\n",
    "\n",
    "df['latitude'].isnull().head()"
   ]
  },
  {
   "cell_type": "code",
   "execution_count": 7,
   "metadata": {},
   "outputs": [
    {
     "data": {
      "text/plain": [
       "19"
      ]
     },
     "execution_count": 7,
     "metadata": {},
     "output_type": "execute_result"
    },
    {
     "data": {
      "text/plain": [
       "12"
      ]
     },
     "execution_count": 7,
     "metadata": {},
     "output_type": "execute_result"
    }
   ],
   "source": [
    "# The count of the problematic addresses in each group\n",
    "\n",
    "df.loc[df['latitude'].isnull() & (df['group'] == \"Asian\")].shape[0] #19\n",
    "df.loc[df['latitude'].isnull() & (df['group'] != \"Asian\")].shape[0] #12"
   ]
  },
  {
   "cell_type": "code",
   "execution_count": 78,
   "metadata": {},
   "outputs": [
    {
     "data": {
      "text/plain": [
       "0           101 8th Street, Suite 101 Oakland, CA 94607\n",
       "4     1055 Wilshire Blvd., Suite 1475 Los Angeles, C...\n",
       "9        1250 Chambers Road Room 2403, Aurora, CO 80011\n",
       "13    1511 Third Avenue Suite 914, Seattle, Washingt...\n",
       "15    16161 Ventura Boulevard Suite 388, Encino, CA ...\n",
       "Name: Address, dtype: object"
      ]
     },
     "execution_count": 78,
     "metadata": {},
     "output_type": "execute_result"
    }
   ],
   "source": [
    "# Index by NAs\n",
    "pr_addrs = df['Address'].loc[df['latitude'].isnull()]\n",
    "\n",
    "pr_addrs.head()"
   ]
  },
  {
   "cell_type": "code",
   "execution_count": 81,
   "metadata": {},
   "outputs": [
    {
     "data": {
      "text/plain": [
       "0          101 8th Street, Suite 101 Oakland, CA 94607\n",
       "1    1055 Wilshire Blvd., Suite 1475 Los Angeles, C...\n",
       "2       1250 Chambers Road Room 2403, Aurora, CO 80011\n",
       "3    1511 Third Avenue Suite 914, Seattle, Washingt...\n",
       "4    16161 Ventura Boulevard Suite 388, Encino, CA ...\n",
       "Name: Address, dtype: object"
      ]
     },
     "execution_count": 81,
     "metadata": {},
     "output_type": "execute_result"
    }
   ],
   "source": [
    "# Remove row index (this is important for iterations)\n",
    "\n",
    "pr_addrs = pr_addrs.reset_index(drop = True)\n",
    "\n",
    "pr_addrs.head()"
   ]
  },
  {
   "cell_type": "markdown",
   "metadata": {},
   "source": [
    "## Replace the list of the addresses with the ones working in Google maps "
   ]
  },
  {
   "cell_type": "markdown",
   "metadata": {},
   "source": [
    "### Test version "
   ]
  },
  {
   "cell_type": "markdown",
   "metadata": {},
   "source": [
    "I will use the first element in the `pr_list` for the test. "
   ]
  },
  {
   "cell_type": "code",
   "execution_count": 82,
   "metadata": {},
   "outputs": [
    {
     "data": {
      "text/plain": [
       "0           101 8th Street, Suite 101 Oakland, CA 94607\n",
       "1     1055 Wilshire Blvd., Suite 1475 Los Angeles, C...\n",
       "2        1250 Chambers Road Room 2403, Aurora, CO 80011\n",
       "3     1511 Third Avenue Suite 914, Seattle, Washingt...\n",
       "4     16161 Ventura Boulevard Suite 388, Encino, CA ...\n",
       "5           1825 San Pablo Suite 200, Oakland, CA 94612\n",
       "6           2166 Hayes St #206, San Francisco, CA 94117\n",
       "7     231 E. Third St., Suite G-106, Los Angeles, CA...\n",
       "8       268 Canal Street, 6th Floor New York, NY, 10013\n",
       "9     3639 Martin Luther King Jr Way S, Seattle, WA ...\n",
       "10    720 8th Avenue South, 2nd Floor Seattle, WA 98104\n",
       "11         731 Sansome St #100, San Francisco, CA 94111\n",
       "12         75 Kneeland St., Suite 204, Boston, MA 02111\n",
       "13             827 Broadway St. San Francisco, CA 94133\n",
       "14    8616 La Tijera Blvd Ste 200 Los Angeles, CA 90...\n",
       "15     900 Kearny St Suite 600, San Francisco, CA 94133\n",
       "16    North East Medical Services 1520 Stockton Stre...\n",
       "17    South Street Clinic 145 South St. Boston, MA 0...\n",
       "18    Washington, DC Office, 1628 16th Street, NW Wa...\n",
       "19          101 8th Street, Suite 101 Oakland, CA 94607\n",
       "20    1055 Wilshire Blvd., Suite 1475 Los Angeles, C...\n",
       "21       1250 Chambers Road Room 2403, Aurora, CO 80011\n",
       "22    16161 Ventura Boulevard Suite 388, Encino, CA ...\n",
       "23    231 E. Third St., Suite G-106, Los Angeles, CA...\n",
       "24      268 Canal Street, 6th Floor New York, NY, 10013\n",
       "25             827 Broadway St. San Francisco, CA 94133\n",
       "26    8616 La Tijera Blvd Ste 200 Los Angeles, CA 90...\n",
       "27     900 Kearny St Suite 600, San Francisco, CA 94133\n",
       "28    North East Medical Services 1520 Stockton Stre...\n",
       "29    South Street Clinic 145 South St. Boston, MA 0...\n",
       "30    Washington, DC Office, 1628 16th Street, NW Wa...\n",
       "Name: Address, dtype: object"
      ]
     },
     "execution_count": 82,
     "metadata": {},
     "output_type": "execute_result"
    }
   ],
   "source": [
    "pr_addrs"
   ]
  },
  {
   "cell_type": "code",
   "execution_count": 83,
   "metadata": {},
   "outputs": [],
   "source": [
    "pr_list = []\n",
    "\n",
    "for i in range(len(pr_addrs)):    \n",
    "    pr_list.append(re.compile(r',').sub('', str(pr_addrs[i])))\n"
   ]
  },
  {
   "cell_type": "code",
   "execution_count": 87,
   "metadata": {},
   "outputs": [
    {
     "data": {
      "text/plain": [
       "['101 8th Street Suite 101 Oakland CA 94607',\n",
       " '1055 Wilshire Blvd. Suite 1475 Los Angeles CA 90177',\n",
       " '1250 Chambers Road Room 2403 Aurora CO 80011',\n",
       " '1511 Third Avenue Suite 914 Seattle Washington 98101-1626',\n",
       " '16161 Ventura Boulevard Suite 388 Encino CA 91436 USA']"
      ]
     },
     "execution_count": 87,
     "metadata": {},
     "output_type": "execute_result"
    }
   ],
   "source": [
    "pr_list[0:5]"
   ]
  },
  {
   "cell_type": "code",
   "execution_count": 99,
   "metadata": {},
   "outputs": [
    {
     "data": {
      "text/plain": [
       "'https://maps.google.com/search?q=101+8th+Street+Suite+101+Oakland+CA+94607&amp;aqs=chrome.0.69i59.416j0j9&amp;sourceid=chrome&amp;ie=UTF-8'"
      ]
     },
     "execution_count": 99,
     "metadata": {},
     "output_type": "execute_result"
    }
   ],
   "source": [
    "query = pr_list[0]\n",
    "query = query.replace(' ', '+')\n",
    "\n",
    "url = f\"https://maps.google.com/search?q={query}&amp;aqs=chrome.0.69i59.416j0j9&amp;sourceid=chrome&amp;ie=UTF-8\"\n",
    "url "
   ]
  },
  {
   "cell_type": "markdown",
   "metadata": {},
   "source": [
    "Get the webpage and turn it into a BS object "
   ]
  },
  {
   "cell_type": "code",
   "execution_count": 100,
   "metadata": {},
   "outputs": [],
   "source": [
    "\n",
    "# headers is needed to avoid HTTP 403 Error \n",
    "resp = Request(url, \n",
    "              # desktop user-agent\n",
    "              headers={'User-Agent': 'Mozilla/5.0'})\n"
   ]
  },
  {
   "cell_type": "code",
   "execution_count": 101,
   "metadata": {},
   "outputs": [],
   "source": [
    "# Get the webpage \n",
    "webpage = urlopen(resp)\n",
    "\n",
    "# Turn it into a BS object\n",
    "bs = BeautifulSoup(webpage.read(), 'html.parser')"
   ]
  },
  {
   "cell_type": "markdown",
   "metadata": {},
   "source": [
    "Find part of the web page that you want to scrape. I find using the `prettify()` function is easier than using a web browser selector (like Google Chrome developer mode)."
   ]
  },
  {
   "cell_type": "code",
   "execution_count": 108,
   "metadata": {},
   "outputs": [],
   "source": [
    "# Print bs\n",
    "\n",
    "# print(bs.prettify())\n",
    "\n",
    "# Interested parts \n",
    "\n",
    "# <span>\n",
    "#        <div class=\"BNeawe deIvCb AP7Wnd\">\n",
    "#         101 8th St #101\n",
    "#        </div>\n",
    "#       </span>"
   ]
  },
  {
   "cell_type": "markdown",
   "metadata": {},
   "source": [
    "We're leveraging `class = \"BNeawe deIvCb AP7Wnd\"` to find the text we want. "
   ]
  },
  {
   "cell_type": "code",
   "execution_count": 109,
   "metadata": {},
   "outputs": [
    {
     "data": {
      "text/plain": [
       "[<div class=\"BNeawe deIvCb AP7Wnd\">101 8th St #101</div>]"
      ]
     },
     "execution_count": 109,
     "metadata": {},
     "output_type": "execute_result"
    }
   ],
   "source": [
    "# New address \n",
    "new_address = bs.findAll(\"\", {\"class\": \"BNeawe deIvCb AP7Wnd\"})[0:1]\n",
    "\n",
    "new_address"
   ]
  },
  {
   "cell_type": "markdown",
   "metadata": {},
   "source": [
    "Using regular expression, we can easily remove the part (tags) we don't want. "
   ]
  },
  {
   "cell_type": "code",
   "execution_count": 110,
   "metadata": {},
   "outputs": [
    {
     "data": {
      "text/plain": [
       "'[101 8th St #101]'"
      ]
     },
     "execution_count": 110,
     "metadata": {},
     "output_type": "execute_result"
    }
   ],
   "source": [
    "re.compile(r'<[^>]+>').sub('', str(new_address))"
   ]
  },
  {
   "cell_type": "markdown",
   "metadata": {},
   "source": [
    "### Iteration "
   ]
  },
  {
   "cell_type": "code",
   "execution_count": 111,
   "metadata": {},
   "outputs": [],
   "source": [
    "def parsing_addr(old_address):\n",
    "            \n",
    "    # Select address  \n",
    "    \n",
    "    query = old_address.replace(' ', '+')\n",
    "\n",
    "    url = f\"https://www.google.com/search?q={query}&amp;aqs=chrome.0.69i59.416j0j9&amp;sourceid=chrome&amp;ie=UTF-8\"\n",
    "\n",
    "    # headers is needed to avoid HTTP 403 Error \n",
    "    resp = Request(url, \n",
    "                  # desktop user-agent\n",
    "                  headers={'User-Agent': 'Mozilla/5.0'})\n",
    "\n",
    "    # Get the webpage \n",
    "    webpage = urlopen(resp)\n",
    "\n",
    "    # Turn it into a BS object\n",
    "    bs = BeautifulSoup(webpage.read(), 'html.parser')\n",
    "\n",
    "    # New address \n",
    "    new_address = bs.findAll(\"\", {\"class\": \"BNeawe deIvCb AP7Wnd\"})[2]\n",
    "\n",
    "    # Remove tags \n",
    "    new_address = re.compile(r'<[^>]+>').sub('', str(new_address))\n",
    "    \n",
    "    return(new_address)"
   ]
  },
  {
   "cell_type": "code",
   "execution_count": 112,
   "metadata": {},
   "outputs": [
    {
     "data": {
      "text/plain": [
       "'Related searches'"
      ]
     },
     "execution_count": 112,
     "metadata": {},
     "output_type": "execute_result"
    }
   ],
   "source": [
    "parsing_addr(pr_list[2])"
   ]
  },
  {
   "cell_type": "code",
   "execution_count": 113,
   "metadata": {},
   "outputs": [
    {
     "ename": "IndexError",
     "evalue": "list index out of range",
     "output_type": "error",
     "traceback": [
      "\u001b[0;31m---------------------------------------------------------------------------\u001b[0m",
      "\u001b[0;31mIndexError\u001b[0m                                Traceback (most recent call last)",
      "\u001b[0;32m<ipython-input-113-37106f56edc0>\u001b[0m in \u001b[0;36m<module>\u001b[0;34m\u001b[0m\n\u001b[1;32m      2\u001b[0m \u001b[0;34m\u001b[0m\u001b[0m\n\u001b[1;32m      3\u001b[0m \u001b[0;32mfor\u001b[0m \u001b[0mi\u001b[0m \u001b[0;32min\u001b[0m \u001b[0mrange\u001b[0m\u001b[0;34m(\u001b[0m\u001b[0mlen\u001b[0m\u001b[0;34m(\u001b[0m\u001b[0mpr_list\u001b[0m\u001b[0;34m)\u001b[0m\u001b[0;34m)\u001b[0m\u001b[0;34m:\u001b[0m\u001b[0;34m\u001b[0m\u001b[0;34m\u001b[0m\u001b[0m\n\u001b[0;32m----> 4\u001b[0;31m     \u001b[0maddresses\u001b[0m\u001b[0;34m.\u001b[0m\u001b[0mappend\u001b[0m\u001b[0;34m(\u001b[0m\u001b[0mparsing_addr\u001b[0m\u001b[0;34m(\u001b[0m\u001b[0mpr_list\u001b[0m\u001b[0;34m[\u001b[0m\u001b[0mi\u001b[0m\u001b[0;34m]\u001b[0m\u001b[0;34m)\u001b[0m\u001b[0;34m)\u001b[0m\u001b[0;34m\u001b[0m\u001b[0;34m\u001b[0m\u001b[0m\n\u001b[0m",
      "\u001b[0;32m<ipython-input-111-33b39cb92fad>\u001b[0m in \u001b[0;36mparsing_addr\u001b[0;34m(old_address)\u001b[0m\n\u001b[1;32m     19\u001b[0m \u001b[0;34m\u001b[0m\u001b[0m\n\u001b[1;32m     20\u001b[0m     \u001b[0;31m# New address\u001b[0m\u001b[0;34m\u001b[0m\u001b[0;34m\u001b[0m\u001b[0;34m\u001b[0m\u001b[0m\n\u001b[0;32m---> 21\u001b[0;31m     \u001b[0mnew_address\u001b[0m \u001b[0;34m=\u001b[0m \u001b[0mbs\u001b[0m\u001b[0;34m.\u001b[0m\u001b[0mfindAll\u001b[0m\u001b[0;34m(\u001b[0m\u001b[0;34m\"\"\u001b[0m\u001b[0;34m,\u001b[0m \u001b[0;34m{\u001b[0m\u001b[0;34m\"class\"\u001b[0m\u001b[0;34m:\u001b[0m \u001b[0;34m\"BNeawe deIvCb AP7Wnd\"\u001b[0m\u001b[0;34m}\u001b[0m\u001b[0;34m)\u001b[0m\u001b[0;34m[\u001b[0m\u001b[0;36m2\u001b[0m\u001b[0;34m]\u001b[0m\u001b[0;34m\u001b[0m\u001b[0;34m\u001b[0m\u001b[0m\n\u001b[0m\u001b[1;32m     22\u001b[0m \u001b[0;34m\u001b[0m\u001b[0m\n\u001b[1;32m     23\u001b[0m     \u001b[0;31m# Remove tags\u001b[0m\u001b[0;34m\u001b[0m\u001b[0;34m\u001b[0m\u001b[0;34m\u001b[0m\u001b[0m\n",
      "\u001b[0;31mIndexError\u001b[0m: list index out of range"
     ]
    }
   ],
   "source": [
    "addresses = []\n",
    "\n",
    "for i in range(len(pr_list)):\n",
    "    addresses.append(parsing_addr(pr_list[i]))"
   ]
  },
  {
   "cell_type": "code",
   "execution_count": null,
   "metadata": {},
   "outputs": [],
   "source": []
  }
 ],
 "metadata": {
  "kernelspec": {
   "display_name": "Python 3",
   "language": "python",
   "name": "python3"
  },
  "language_info": {
   "codemirror_mode": {
    "name": "ipython",
    "version": 3
   },
   "file_extension": ".py",
   "mimetype": "text/x-python",
   "name": "python",
   "nbconvert_exporter": "python",
   "pygments_lexer": "ipython3",
   "version": "3.7.4"
  },
  "toc": {
   "base_numbering": 1,
   "nav_menu": {},
   "number_sections": true,
   "sideBar": true,
   "skip_h1_title": false,
   "title_cell": "Table of Contents",
   "title_sidebar": "Contents",
   "toc_cell": false,
   "toc_position": {},
   "toc_section_display": true,
   "toc_window_display": false
  }
 },
 "nbformat": 4,
 "nbformat_minor": 4
}
