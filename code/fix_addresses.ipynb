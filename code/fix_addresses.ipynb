{
 "cells": [
  {
   "cell_type": "markdown",
   "metadata": {},
   "source": [
    "# Fix problematic addresses that won't be geocoded "
   ]
  },
  {
   "cell_type": "markdown",
   "metadata": {},
   "source": [
    "## Setup"
   ]
  },
  {
   "cell_type": "code",
   "execution_count": 4,
   "metadata": {},
   "outputs": [],
   "source": [
    "\n",
    "# Print all outputs from commnads in a cell\n",
    "from IPython.core.interactiveshell import InteractiveShell\n",
    "InteractiveShell.ast_node_interactivity = \"all\"\n",
    "\n",
    "#from urllib.request import Request, urlopen\n",
    "from bs4 import BeautifulSoup \n",
    "import pandas as pd\n",
    "import numpy as np\n",
    "import re\n",
    "import geocoder\n"
   ]
  },
  {
   "cell_type": "code",
   "execution_count": 8,
   "metadata": {},
   "outputs": [],
   "source": [
    "# Import files \n",
    "df = pd.read_csv(\"/home/jae/analyzing-asian-american-latino-civic-infrastructure/processed_data/org_lat_logs.csv\")"
   ]
  },
  {
   "cell_type": "markdown",
   "metadata": {},
   "source": [
    "## Identify problematic addresses "
   ]
  },
  {
   "cell_type": "code",
   "execution_count": 9,
   "metadata": {},
   "outputs": [
    {
     "data": {
      "text/html": [
       "<div>\n",
       "<style scoped>\n",
       "    .dataframe tbody tr th:only-of-type {\n",
       "        vertical-align: middle;\n",
       "    }\n",
       "\n",
       "    .dataframe tbody tr th {\n",
       "        vertical-align: top;\n",
       "    }\n",
       "\n",
       "    .dataframe thead th {\n",
       "        text-align: right;\n",
       "    }\n",
       "</style>\n",
       "<table border=\"1\" class=\"dataframe\">\n",
       "  <thead>\n",
       "    <tr style=\"text-align: right;\">\n",
       "      <th></th>\n",
       "      <th>Address</th>\n",
       "      <th>F.year</th>\n",
       "      <th>Name</th>\n",
       "      <th>Type</th>\n",
       "      <th>latitude</th>\n",
       "      <th>longtitude</th>\n",
       "      <th>geo_method</th>\n",
       "      <th>category</th>\n",
       "    </tr>\n",
       "  </thead>\n",
       "  <tbody>\n",
       "    <tr>\n",
       "      <th>0</th>\n",
       "      <td>101 8th Street, Suite 101 Oakland, CA 94607</td>\n",
       "      <td>1974</td>\n",
       "      <td>Asian Health Services</td>\n",
       "      <td>Hybrid</td>\n",
       "      <td>NaN</td>\n",
       "      <td>NaN</td>\n",
       "      <td>osm</td>\n",
       "      <td>Asian</td>\n",
       "    </tr>\n",
       "    <tr>\n",
       "      <th>1</th>\n",
       "      <td>1016 West Argyle Street Chicago, IL 60640</td>\n",
       "      <td>1981</td>\n",
       "      <td>Chinese Mutual Aid Association</td>\n",
       "      <td>CBO</td>\n",
       "      <td>41.973394</td>\n",
       "      <td>-87.655784</td>\n",
       "      <td>osm</td>\n",
       "      <td>Asian</td>\n",
       "    </tr>\n",
       "    <tr>\n",
       "      <th>2</th>\n",
       "      <td>1031 25th St, San Diego</td>\n",
       "      <td>1974</td>\n",
       "      <td>Union of Pan Asian Communities</td>\n",
       "      <td>CBO</td>\n",
       "      <td>32.716370</td>\n",
       "      <td>-117.140274</td>\n",
       "      <td>census</td>\n",
       "      <td>Asian</td>\n",
       "    </tr>\n",
       "    <tr>\n",
       "      <th>3</th>\n",
       "      <td>1038 Post Street San Francisco, CA 94109</td>\n",
       "      <td>1970</td>\n",
       "      <td>Chinatown Youth Center</td>\n",
       "      <td>CBO</td>\n",
       "      <td>37.787195</td>\n",
       "      <td>-122.419089</td>\n",
       "      <td>osm</td>\n",
       "      <td>Asian</td>\n",
       "    </tr>\n",
       "    <tr>\n",
       "      <th>4</th>\n",
       "      <td>1055 Wilshire Blvd., Suite 1475 Los Angeles, C...</td>\n",
       "      <td>1976</td>\n",
       "      <td>Pacific Asian Consortium in Employment</td>\n",
       "      <td>CBO</td>\n",
       "      <td>NaN</td>\n",
       "      <td>NaN</td>\n",
       "      <td>osm</td>\n",
       "      <td>Asian</td>\n",
       "    </tr>\n",
       "  </tbody>\n",
       "</table>\n",
       "</div>"
      ],
      "text/plain": [
       "                                             Address  F.year  \\\n",
       "0        101 8th Street, Suite 101 Oakland, CA 94607    1974   \n",
       "1          1016 West Argyle Street Chicago, IL 60640    1981   \n",
       "2                            1031 25th St, San Diego    1974   \n",
       "3           1038 Post Street San Francisco, CA 94109    1970   \n",
       "4  1055 Wilshire Blvd., Suite 1475 Los Angeles, C...    1976   \n",
       "\n",
       "                                     Name    Type   latitude  longtitude  \\\n",
       "0                   Asian Health Services  Hybrid        NaN         NaN   \n",
       "1          Chinese Mutual Aid Association     CBO  41.973394  -87.655784   \n",
       "2          Union of Pan Asian Communities     CBO  32.716370 -117.140274   \n",
       "3                  Chinatown Youth Center     CBO  37.787195 -122.419089   \n",
       "4  Pacific Asian Consortium in Employment     CBO        NaN         NaN   \n",
       "\n",
       "  geo_method category  \n",
       "0        osm    Asian  \n",
       "1        osm    Asian  \n",
       "2     census    Asian  \n",
       "3        osm    Asian  \n",
       "4        osm    Asian  "
      ]
     },
     "execution_count": 9,
     "metadata": {},
     "output_type": "execute_result"
    }
   ],
   "source": [
    "df.head()"
   ]
  },
  {
   "cell_type": "code",
   "execution_count": 10,
   "metadata": {},
   "outputs": [
    {
     "data": {
      "text/plain": [
       "0     True\n",
       "1    False\n",
       "2    False\n",
       "3    False\n",
       "4     True\n",
       "Name: latitude, dtype: bool"
      ]
     },
     "execution_count": 10,
     "metadata": {},
     "output_type": "execute_result"
    }
   ],
   "source": [
    "# Find NAs\n",
    "\n",
    "df['latitude'].isnull().head()"
   ]
  },
  {
   "cell_type": "code",
   "execution_count": 12,
   "metadata": {},
   "outputs": [
    {
     "data": {
      "text/plain": [
       "27"
      ]
     },
     "execution_count": 12,
     "metadata": {},
     "output_type": "execute_result"
    },
    {
     "data": {
      "text/plain": [
       "31"
      ]
     },
     "execution_count": 12,
     "metadata": {},
     "output_type": "execute_result"
    }
   ],
   "source": [
    "# The count of the problematic addresses in each group\n",
    "\n",
    "df.loc[df['latitude'].isnull() & (df['category'] == \"Asian\")].shape[0] #27\n",
    "df.loc[df['latitude'].isnull() & (df['category'] != \"Asian\")].shape[0] #31"
   ]
  },
  {
   "cell_type": "code",
   "execution_count": 13,
   "metadata": {},
   "outputs": [
    {
     "data": {
      "text/plain": [
       "0           101 8th Street, Suite 101 Oakland, CA 94607\n",
       "4     1055 Wilshire Blvd., Suite 1475 Los Angeles, C...\n",
       "9        1250 Chambers Road Room 2403, Aurora, CO 80011\n",
       "13    1511 Third Avenue Suite 914, Seattle, Washingt...\n",
       "15    16161 Ventura Boulevard Suite 388, Encino, CA ...\n",
       "Name: Address, dtype: object"
      ]
     },
     "execution_count": 13,
     "metadata": {},
     "output_type": "execute_result"
    }
   ],
   "source": [
    "# Index by NAs\n",
    "pr_addrs = df['Address'].loc[df['latitude'].isnull()]\n",
    "\n",
    "pr_addrs.head()"
   ]
  },
  {
   "cell_type": "code",
   "execution_count": 14,
   "metadata": {},
   "outputs": [
    {
     "data": {
      "text/plain": [
       "array([  0,   4,   9,  13,  15,  19,  23,  25,  26,  27,  31,  33,  35,\n",
       "        36,  37,  39,  40,  42,  52,  54,  55,  56,  58,  62,  69,  70,\n",
       "        71,  72,  80,  81,  85,  86,  87,  90,  93, 100, 101, 103, 105,\n",
       "       107, 125, 127, 135, 140, 142, 143, 145, 148, 149, 152, 153, 154,\n",
       "       158, 160, 161, 162, 171, 175])"
      ]
     },
     "execution_count": 14,
     "metadata": {},
     "output_type": "execute_result"
    }
   ],
   "source": [
    "# This index is useful to recode values later \n",
    "pr_index = np.array(pr_addrs.index)\n",
    "\n",
    "pr_index \n"
   ]
  },
  {
   "cell_type": "code",
   "execution_count": 21,
   "metadata": {},
   "outputs": [
    {
     "data": {
      "text/plain": [
       "0          101 8th Street, Suite 101 Oakland, CA 94607\n",
       "1    1055 Wilshire Blvd., Suite 1475 Los Angeles, C...\n",
       "2       1250 Chambers Road Room 2403, Aurora, CO 80011\n",
       "3    1511 Third Avenue Suite 914, Seattle, Washingt...\n",
       "4    16161 Ventura Boulevard Suite 388, Encino, CA ...\n",
       "Name: Address, dtype: object"
      ]
     },
     "execution_count": 21,
     "metadata": {},
     "output_type": "execute_result"
    }
   ],
   "source": [
    "# Remove row index (this is important for iterations)\n",
    "pr_addrs = pr_addrs.reset_index(drop = True)\n",
    "\n",
    "pr_addrs.head()\n"
   ]
  },
  {
   "cell_type": "markdown",
   "metadata": {},
   "source": [
    "## Geocode using bing API"
   ]
  },
  {
   "cell_type": "code",
   "execution_count": 22,
   "metadata": {},
   "outputs": [
    {
     "data": {
      "text/plain": [
       "<[OK] Bing - Geocode [101 8th St, Oakland, CA 94607]>"
      ]
     },
     "execution_count": 22,
     "metadata": {},
     "output_type": "execute_result"
    }
   ],
   "source": [
    "# test \n",
    "\n",
    "geocoder.bing(pr_addrs[0], key = \"bing_api_key\")"
   ]
  },
  {
   "cell_type": "code",
   "execution_count": 23,
   "metadata": {},
   "outputs": [],
   "source": [
    "\n",
    "latlngs = []\n",
    "\n",
    "for i in range(len(pr_addrs)):\n",
    "    latlngs.append(geocoder.bing(pr_addrs[i], key = \"bing_api_key\"))"
   ]
  },
  {
   "cell_type": "code",
   "execution_count": 26,
   "metadata": {},
   "outputs": [],
   "source": [
    "lat = []\n",
    "long = []\n",
    "\n",
    "for i in range(len(latlngs)):\n",
    "    lat.append(latlngs[i].latlng[0])\n",
    "    long.append(latlngs[i].latlng[1])"
   ]
  },
  {
   "cell_type": "code",
   "execution_count": 27,
   "metadata": {},
   "outputs": [
    {
     "data": {
      "text/plain": [
       "False"
      ]
     },
     "execution_count": 27,
     "metadata": {},
     "output_type": "execute_result"
    },
    {
     "data": {
      "text/plain": [
       "False"
      ]
     },
     "execution_count": 27,
     "metadata": {},
     "output_type": "execute_result"
    }
   ],
   "source": [
    "# Check whether the for loop worked well \n",
    "None in lat\n",
    "None in long "
   ]
  },
  {
   "cell_type": "code",
   "execution_count": 28,
   "metadata": {},
   "outputs": [
    {
     "name": "stderr",
     "output_type": "stream",
     "text": [
      "/home/jae/.local/lib/python2.7/site-packages/pandas/core/indexing.py:190: SettingWithCopyWarning: \n",
      "A value is trying to be set on a copy of a slice from a DataFrame\n",
      "\n",
      "See the caveats in the documentation: http://pandas.pydata.org/pandas-docs/stable/indexing.html#indexing-view-versus-copy\n",
      "  self._setitem_with_indexer(indexer, value)\n"
     ]
    },
    {
     "data": {
      "text/plain": [
       "0     37.796717\n",
       "4     34.021877\n",
       "9     39.734480\n",
       "13    47.609899\n",
       "15    34.157100\n",
       "Name: latitude, dtype: float64"
      ]
     },
     "execution_count": 28,
     "metadata": {},
     "output_type": "execute_result"
    }
   ],
   "source": [
    "# Update the data \n",
    "\n",
    "df['latitude'].loc[pr_index,] = np.array(lat)\n",
    "df['latitude'].loc[pr_index,][0:5]"
   ]
  },
  {
   "cell_type": "code",
   "execution_count": 29,
   "metadata": {},
   "outputs": [
    {
     "data": {
      "text/plain": [
       "0    -122.266167\n",
       "4    -118.499597\n",
       "9    -104.808290\n",
       "13   -122.338306\n",
       "15   -118.485475\n",
       "Name: longtitude, dtype: float64"
      ]
     },
     "execution_count": 29,
     "metadata": {},
     "output_type": "execute_result"
    }
   ],
   "source": [
    "df['longtitude'].loc[pr_index,] = np.array(long)\n",
    "df['longtitude'].loc[pr_index,][0:5]"
   ]
  },
  {
   "cell_type": "code",
   "execution_count": 30,
   "metadata": {},
   "outputs": [
    {
     "data": {
      "text/plain": [
       "0     Bing\n",
       "4     Bing\n",
       "9     Bing\n",
       "13    Bing\n",
       "15    Bing\n",
       "Name: geo_method, dtype: object"
      ]
     },
     "execution_count": 30,
     "metadata": {},
     "output_type": "execute_result"
    }
   ],
   "source": [
    "df['geo_method'].loc[pr_index,] = \"Bing\"\n",
    "df['geo_method'].loc[pr_index,][0:5]"
   ]
  },
  {
   "cell_type": "markdown",
   "metadata": {},
   "source": [
    "## Export the result "
   ]
  },
  {
   "cell_type": "code",
   "execution_count": 32,
   "metadata": {},
   "outputs": [],
   "source": [
    "# Export the result as a csv  \n",
    "df.to_csv(\"/home/jae/analyzing-asian-american-latino-civic-infrastructure/processed_data/org_lat_logs_fixed.csv\")"
   ]
  },
  {
   "cell_type": "code",
   "execution_count": null,
   "metadata": {},
   "outputs": [],
   "source": []
  }
 ],
 "metadata": {
  "kernelspec": {
   "display_name": "Python 2",
   "language": "python",
   "name": "python2"
  },
  "language_info": {
   "codemirror_mode": {
    "name": "ipython",
    "version": 2
   },
   "file_extension": ".py",
   "mimetype": "text/x-python",
   "name": "python",
   "nbconvert_exporter": "python",
   "pygments_lexer": "ipython2",
   "version": "2.7.18rc1"
  },
  "toc": {
   "base_numbering": 1,
   "nav_menu": {},
   "number_sections": true,
   "sideBar": true,
   "skip_h1_title": false,
   "title_cell": "Table of Contents",
   "title_sidebar": "Contents",
   "toc_cell": false,
   "toc_position": {},
   "toc_section_display": true,
   "toc_window_display": false
  }
 },
 "nbformat": 4,
 "nbformat_minor": 4
}
